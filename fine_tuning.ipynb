{
 "cells": [
  {
   "cell_type": "code",
   "execution_count": 1,
   "id": "19c26612-293d-48db-bacd-4d3ac9d4d6a1",
   "metadata": {},
   "outputs": [],
   "source": [
    "import pandas as pd\n",
    "import os\n",
    "from dotenv import load_dotenv\n",
    "from google import genai\n",
    "from google.genai import types\n",
    "import json"
   ]
  },
  {
   "cell_type": "code",
   "execution_count": 2,
   "id": "107324b7-f8da-454b-9aa7-05157e895565",
   "metadata": {},
   "outputs": [
    {
     "data": {
      "text/html": [
       "<div>\n",
       "<style scoped>\n",
       "    .dataframe tbody tr th:only-of-type {\n",
       "        vertical-align: middle;\n",
       "    }\n",
       "\n",
       "    .dataframe tbody tr th {\n",
       "        vertical-align: top;\n",
       "    }\n",
       "\n",
       "    .dataframe thead th {\n",
       "        text-align: right;\n",
       "    }\n",
       "</style>\n",
       "<table border=\"1\" class=\"dataframe\">\n",
       "  <thead>\n",
       "    <tr style=\"text-align: right;\">\n",
       "      <th></th>\n",
       "      <th>person_age</th>\n",
       "      <th>person_gender</th>\n",
       "      <th>person_education</th>\n",
       "      <th>person_income</th>\n",
       "      <th>person_emp_exp</th>\n",
       "      <th>person_home_ownership</th>\n",
       "      <th>loan_amnt</th>\n",
       "      <th>loan_intent</th>\n",
       "      <th>loan_int_rate</th>\n",
       "      <th>loan_percent_income</th>\n",
       "      <th>cb_person_cred_hist_length</th>\n",
       "      <th>credit_score</th>\n",
       "      <th>previous_loan_defaults_on_file</th>\n",
       "      <th>loan_status</th>\n",
       "    </tr>\n",
       "  </thead>\n",
       "  <tbody>\n",
       "    <tr>\n",
       "      <th>0</th>\n",
       "      <td>22.0</td>\n",
       "      <td>female</td>\n",
       "      <td>Master</td>\n",
       "      <td>71948.0</td>\n",
       "      <td>0</td>\n",
       "      <td>RENT</td>\n",
       "      <td>35000.0</td>\n",
       "      <td>PERSONAL</td>\n",
       "      <td>16.02</td>\n",
       "      <td>0.49</td>\n",
       "      <td>3.0</td>\n",
       "      <td>561</td>\n",
       "      <td>No</td>\n",
       "      <td>1</td>\n",
       "    </tr>\n",
       "    <tr>\n",
       "      <th>1</th>\n",
       "      <td>21.0</td>\n",
       "      <td>female</td>\n",
       "      <td>High School</td>\n",
       "      <td>12282.0</td>\n",
       "      <td>0</td>\n",
       "      <td>OWN</td>\n",
       "      <td>1000.0</td>\n",
       "      <td>EDUCATION</td>\n",
       "      <td>11.14</td>\n",
       "      <td>0.08</td>\n",
       "      <td>2.0</td>\n",
       "      <td>504</td>\n",
       "      <td>Yes</td>\n",
       "      <td>0</td>\n",
       "    </tr>\n",
       "    <tr>\n",
       "      <th>2</th>\n",
       "      <td>25.0</td>\n",
       "      <td>female</td>\n",
       "      <td>High School</td>\n",
       "      <td>12438.0</td>\n",
       "      <td>3</td>\n",
       "      <td>MORTGAGE</td>\n",
       "      <td>5500.0</td>\n",
       "      <td>MEDICAL</td>\n",
       "      <td>12.87</td>\n",
       "      <td>0.44</td>\n",
       "      <td>3.0</td>\n",
       "      <td>635</td>\n",
       "      <td>No</td>\n",
       "      <td>1</td>\n",
       "    </tr>\n",
       "    <tr>\n",
       "      <th>3</th>\n",
       "      <td>23.0</td>\n",
       "      <td>female</td>\n",
       "      <td>Bachelor</td>\n",
       "      <td>79753.0</td>\n",
       "      <td>0</td>\n",
       "      <td>RENT</td>\n",
       "      <td>35000.0</td>\n",
       "      <td>MEDICAL</td>\n",
       "      <td>15.23</td>\n",
       "      <td>0.44</td>\n",
       "      <td>2.0</td>\n",
       "      <td>675</td>\n",
       "      <td>No</td>\n",
       "      <td>1</td>\n",
       "    </tr>\n",
       "    <tr>\n",
       "      <th>4</th>\n",
       "      <td>24.0</td>\n",
       "      <td>male</td>\n",
       "      <td>Master</td>\n",
       "      <td>66135.0</td>\n",
       "      <td>1</td>\n",
       "      <td>RENT</td>\n",
       "      <td>35000.0</td>\n",
       "      <td>MEDICAL</td>\n",
       "      <td>14.27</td>\n",
       "      <td>0.53</td>\n",
       "      <td>4.0</td>\n",
       "      <td>586</td>\n",
       "      <td>No</td>\n",
       "      <td>1</td>\n",
       "    </tr>\n",
       "  </tbody>\n",
       "</table>\n",
       "</div>"
      ],
      "text/plain": [
       "   person_age person_gender person_education  person_income  person_emp_exp  \\\n",
       "0        22.0        female           Master        71948.0               0   \n",
       "1        21.0        female      High School        12282.0               0   \n",
       "2        25.0        female      High School        12438.0               3   \n",
       "3        23.0        female         Bachelor        79753.0               0   \n",
       "4        24.0          male           Master        66135.0               1   \n",
       "\n",
       "  person_home_ownership  loan_amnt loan_intent  loan_int_rate  \\\n",
       "0                  RENT    35000.0    PERSONAL          16.02   \n",
       "1                   OWN     1000.0   EDUCATION          11.14   \n",
       "2              MORTGAGE     5500.0     MEDICAL          12.87   \n",
       "3                  RENT    35000.0     MEDICAL          15.23   \n",
       "4                  RENT    35000.0     MEDICAL          14.27   \n",
       "\n",
       "   loan_percent_income  cb_person_cred_hist_length  credit_score  \\\n",
       "0                 0.49                         3.0           561   \n",
       "1                 0.08                         2.0           504   \n",
       "2                 0.44                         3.0           635   \n",
       "3                 0.44                         2.0           675   \n",
       "4                 0.53                         4.0           586   \n",
       "\n",
       "  previous_loan_defaults_on_file  loan_status  \n",
       "0                             No            1  \n",
       "1                            Yes            0  \n",
       "2                             No            1  \n",
       "3                             No            1  \n",
       "4                             No            1  "
      ]
     },
     "execution_count": 2,
     "metadata": {},
     "output_type": "execute_result"
    }
   ],
   "source": [
    "data = pd.read_csv(\"data/loan_data.csv\")\n",
    "data.head()"
   ]
  },
  {
   "cell_type": "code",
   "execution_count": 5,
   "id": "50d41b39-ad7e-44c2-941e-2e4fb6058297",
   "metadata": {},
   "outputs": [],
   "source": [
    "load_dotenv()\n",
    "client = genai.Client()"
   ]
  },
  {
   "cell_type": "code",
   "execution_count": 6,
   "id": "61baec7f-712a-4b89-9a2a-7abe34887f73",
   "metadata": {},
   "outputs": [
    {
     "name": "stdout",
     "output_type": "stream",
     "text": [
      "models/gemini-1.5-flash-001-tuning\n"
     ]
    }
   ],
   "source": [
    "for model in client.models.list():\n",
    "    if \"createTunedModel\" in model.supported_actions:\n",
    "        print(model.name)\n",
    "    "
   ]
  },
  {
   "cell_type": "markdown",
   "id": "e2952459-d01d-41a7-b72a-58648ece6b19",
   "metadata": {
    "jp-MarkdownHeadingCollapsed": true
   },
   "source": [
    "# Training on Loan Dataset"
   ]
  },
  {
   "cell_type": "markdown",
   "id": "f2156c35-8170-4111-b773-5ccc10bea7a7",
   "metadata": {
    "jp-MarkdownHeadingCollapsed": true
   },
   "source": [
    "## Preparing Training Data"
   ]
  },
  {
   "cell_type": "code",
   "execution_count": 3,
   "id": "88888f86-c510-4944-b4cc-805380d2b73b",
   "metadata": {},
   "outputs": [],
   "source": [
    "training_data = []"
   ]
  },
  {
   "cell_type": "code",
   "execution_count": 7,
   "id": "1423a4c2-914a-4031-b4b7-bec6798e63b9",
   "metadata": {},
   "outputs": [],
   "source": [
    "for i in range(data.shape[0]):\n",
    "    trainin_data_i=[]\n",
    "    prompt=f\"A {data.loc[i,\"person_age\"]}-year-old {data.loc[i,'person_gender']} with a {data.loc[i,'person_education']} level of education, earning ${int(data.loc[i,'person_income'])}, with {data.loc[i,'person_emp_exp']} years of work experience, who has {data.loc[i,'person_home_ownership'].lower()} housing and is applying for a ${int(data.loc[i,'loan_amnt'])}. {data.loc[i,'loan_intent'].lower()} loan at an interest rate of {data.loc[i,'loan_int_rate']}%. Their credit score is {data.loc[i,'credit_score']}, and they have a credit history of {int(data.loc[i,'cb_person_cred_hist_length'])} years. Previous defaults on file: {data.loc[i,'previous_loan_defaults_on_file']}. Should the loan be approved?\"\n",
    "    response = \"yes\" if data.loc[i, \"loan_status\"] == 1 else \"No\"\n",
    "\n",
    "    training_data.append([prompt, response])"
   ]
  },
  {
   "cell_type": "code",
   "execution_count": 9,
   "id": "7e6d22e0-3ef9-4176-a818-44071a063dd0",
   "metadata": {},
   "outputs": [
    {
     "name": "stdout",
     "output_type": "stream",
     "text": [
      "[['A 22.0-year-old female with a Master level of education, earning $71948, with 0 years of work experience, who has rent housing and is applying for a $35000. personal loan at an interest rate of 16.02%. Their credit score is 561, and they have a credit history of 3 years. Previous defaults on file: No. Should the loan be approved?', 'yes'], ['A 21.0-year-old female with a High School level of education, earning $12282, with 0 years of work experience, who has own housing and is applying for a $1000. education loan at an interest rate of 11.14%. Their credit score is 504, and they have a credit history of 2 years. Previous defaults on file: Yes. Should the loan be approved?', 'No'], ['A 25.0-year-old female with a High School level of education, earning $12438, with 3 years of work experience, who has mortgage housing and is applying for a $5500. medical loan at an interest rate of 12.87%. Their credit score is 635, and they have a credit history of 3 years. Previous defaults on file: No. Should the loan be approved?', 'yes'], ['A 23.0-year-old female with a Bachelor level of education, earning $79753, with 0 years of work experience, who has rent housing and is applying for a $35000. medical loan at an interest rate of 15.23%. Their credit score is 675, and they have a credit history of 2 years. Previous defaults on file: No. Should the loan be approved?', 'yes'], ['A 24.0-year-old male with a Master level of education, earning $66135, with 1 years of work experience, who has rent housing and is applying for a $35000. medical loan at an interest rate of 14.27%. Their credit score is 586, and they have a credit history of 4 years. Previous defaults on file: No. Should the loan be approved?', 'yes'], ['A 21.0-year-old female with a High School level of education, earning $12951, with 0 years of work experience, who has own housing and is applying for a $2500. venture loan at an interest rate of 7.14%. Their credit score is 532, and they have a credit history of 2 years. Previous defaults on file: No. Should the loan be approved?', 'yes'], ['A 26.0-year-old female with a Bachelor level of education, earning $93471, with 1 years of work experience, who has rent housing and is applying for a $35000. education loan at an interest rate of 12.42%. Their credit score is 701, and they have a credit history of 3 years. Previous defaults on file: No. Should the loan be approved?', 'yes'], ['A 24.0-year-old female with a High School level of education, earning $95550, with 5 years of work experience, who has rent housing and is applying for a $35000. medical loan at an interest rate of 11.11%. Their credit score is 585, and they have a credit history of 4 years. Previous defaults on file: No. Should the loan be approved?', 'yes'], ['A 24.0-year-old female with a Associate level of education, earning $100684, with 3 years of work experience, who has rent housing and is applying for a $35000. personal loan at an interest rate of 8.9%. Their credit score is 544, and they have a credit history of 2 years. Previous defaults on file: No. Should the loan be approved?', 'yes'], ['A 21.0-year-old female with a High School level of education, earning $12739, with 0 years of work experience, who has own housing and is applying for a $1600. venture loan at an interest rate of 14.74%. Their credit score is 640, and they have a credit history of 3 years. Previous defaults on file: No. Should the loan be approved?', 'yes']]\n"
     ]
    }
   ],
   "source": [
    "print(training_data[:10])"
   ]
  },
  {
   "cell_type": "markdown",
   "id": "7da851dc-61ed-48cd-b117-54e40ce036d1",
   "metadata": {},
   "source": [
    "## Fine Tuning"
   ]
  },
  {
   "cell_type": "code",
   "execution_count": 8,
   "id": "b08bb2b4-a8e2-476e-b24d-987ef33e693a",
   "metadata": {},
   "outputs": [],
   "source": [
    "training_dataset = types.TuningDataset(\n",
    "    examples=[\n",
    "        types.TuningExample(\n",
    "            text_input=i,\n",
    "            output=o,\n",
    "        )\n",
    "        for i,o in training_data\n",
    "    ]\n",
    ")"
   ]
  },
  {
   "cell_type": "code",
   "execution_count": 73,
   "id": "e18e3946-3839-40f4-adc6-dc3fb1b69be4",
   "metadata": {},
   "outputs": [
    {
     "data": {
      "text/plain": [
       "TuningJob(name='tunedModels/gem20flashloanapproval-g6wazf6qmmbz', state=<JobState.JOB_STATE_QUEUED: 'JOB_STATE_QUEUED'>, create_time=None, start_time=None, end_time=None, update_time=None, error=None, description=None, base_model=None, tuned_model=None, supervised_tuning_spec=None, tuning_data_stats=None, encryption_spec=None, partner_model_tuning_spec=None, distillation_spec=None, experiment=None, labels=None, pipeline_job=None, tuned_model_display_name=None)"
      ]
     },
     "execution_count": 73,
     "metadata": {},
     "output_type": "execute_result"
    }
   ],
   "source": [
    "tuning_job = client.tunings.tune(\n",
    "    base_model='models/gemini-1.5-flash-001-tuning',\n",
    "    training_dataset=training_dataset,\n",
    "    config=types.CreateTuningJobConfig(\n",
    "        epoch_count=5,\n",
    "        batch_size=4,\n",
    "        learning_rate=0.001,\n",
    "        tuned_model_display_name=\"gem-2.0-flash-LoanApproval\"\n",
    "    )\n",
    ")\n",
    "\n",
    "tuning_job"
   ]
  },
  {
   "cell_type": "code",
   "execution_count": 9,
   "id": "9719f0eb-9980-4932-94a4-88bbd46d8751",
   "metadata": {
    "scrolled": true
   },
   "outputs": [
    {
     "ename": "NameError",
     "evalue": "name 'tuning_job' is not defined",
     "output_type": "error",
     "traceback": [
      "\u001b[31m---------------------------------------------------------------------------\u001b[39m",
      "\u001b[31mNameError\u001b[39m                                 Traceback (most recent call last)",
      "\u001b[36mCell\u001b[39m\u001b[36m \u001b[39m\u001b[32mIn[9]\u001b[39m\u001b[32m, line 1\u001b[39m\n\u001b[32m----> \u001b[39m\u001b[32m1\u001b[39m \u001b[43mtuning_job\u001b[49m.state\n",
      "\u001b[31mNameError\u001b[39m: name 'tuning_job' is not defined"
     ]
    }
   ],
   "source": [
    "tuning_job.state"
   ]
  },
  {
   "cell_type": "code",
   "execution_count": 24,
   "id": "de0d80b3-b8e2-449c-bee5-ef8bb63bfdca",
   "metadata": {
    "scrolled": true
   },
   "outputs": [],
   "source": [
    "response = client.models.generate_content(\n",
    "    model=\"tunedModels/gem20flashloanapproval-uoamepmbr22k\",\n",
    "    contents=str(training_data[0][0])\n",
    ")\n"
   ]
  },
  {
   "cell_type": "code",
   "execution_count": 23,
   "id": "3b6b089f-8156-4684-b03f-232ce1b53b19",
   "metadata": {},
   "outputs": [
    {
     "name": "stdout",
     "output_type": "stream",
     "text": [
      "None\n"
     ]
    }
   ],
   "source": [
    "print(response.text)"
   ]
  },
  {
   "cell_type": "code",
   "execution_count": 20,
   "id": "dc19b8c9-d12c-418e-ac3a-19f415bd29e0",
   "metadata": {},
   "outputs": [
    {
     "data": {
      "text/plain": [
       "TuningJob(name='tunedModels/gem20flashloanapproval-9j70uinjcu3g', state=<JobState.JOB_STATE_RUNNING: 'JOB_STATE_RUNNING'>, create_time=datetime.datetime(2025, 4, 20, 8, 16, 36, 144315, tzinfo=TzInfo(UTC)), start_time=None, end_time=None, update_time=datetime.datetime(2025, 4, 20, 8, 16, 36, 144315, tzinfo=TzInfo(UTC)), error=None, description=None, base_model='models/gemini-1.5-flash-001-tuning', tuned_model=TunedModel(model='tunedModels/gem20flashloanapproval-9j70uinjcu3g', endpoint='tunedModels/gem20flashloanapproval-9j70uinjcu3g'), supervised_tuning_spec=None, tuning_data_stats=None, encryption_spec=None, partner_model_tuning_spec=None, distillation_spec=None, experiment=None, labels=None, pipeline_job=None, tuned_model_display_name=None)"
      ]
     },
     "execution_count": 20,
     "metadata": {},
     "output_type": "execute_result"
    }
   ],
   "source": [
    "client.tunings.get(name=\"tunedModels/gem20flashloanapproval-9j70uinjcu3g\")"
   ]
  },
  {
   "cell_type": "code",
   "execution_count": 11,
   "id": "74da6a7d-7f53-4467-908e-5ae08c70169a",
   "metadata": {},
   "outputs": [
    {
     "name": "stdout",
     "output_type": "stream",
     "text": [
      "1 -> tunedModels/gem20flashloanapproval-uoamepmbr22k state: JobState.JOB_STATE_SUCCEEDED\n",
      "\n",
      "2 -> tunedModels/gem20flashloanapproval-2pl9k5nx5l8g state: JobState.JOB_STATE_RUNNING\n",
      "\n",
      "3 -> tunedModels/gem20flashloanapproval-yz2tjlu62jhb state: JobState.JOB_STATE_RUNNING\n",
      "\n",
      "4 -> tunedModels/gem20flashloanapproval-n7ckykl4vhrk state: JobState.JOB_STATE_RUNNING\n",
      "\n",
      "5 -> tunedModels/gem20flashloanapproval-9j70uinjcu3g state: JobState.JOB_STATE_RUNNING\n",
      "\n",
      "6 -> tunedModels/gem20flashloanapproval-g6wazf6qmmbz state: JobState.JOB_STATE_RUNNING\n",
      "\n"
     ]
    }
   ],
   "source": [
    "for i, tuned_model in enumerate(client.tunings.list()):\n",
    "    print(f\"{i+1} -> {tuned_model.name} state: {tuned_model.state}\\n\")\n",
    "    "
   ]
  },
  {
   "cell_type": "code",
   "execution_count": 12,
   "id": "39b475a8-2bbc-4b5f-a32b-aecdbb644ef9",
   "metadata": {},
   "outputs": [
    {
     "ename": "SyntaxError",
     "evalue": "invalid syntax (3412801192.py, line 1)",
     "output_type": "error",
     "traceback": [
      "  \u001b[36mCell\u001b[39m\u001b[36m \u001b[39m\u001b[32mIn[12]\u001b[39m\u001b[32m, line 1\u001b[39m\n\u001b[31m    \u001b[39m\u001b[31mclient.tunings.(name=\"tunedModels/gem20flashloanapproval-uoamepmbr22k\")\u001b[39m\n                   ^\n\u001b[31mSyntaxError\u001b[39m\u001b[31m:\u001b[39m invalid syntax\n"
     ]
    }
   ],
   "source": [
    "client.tunings.(name=\"tunedModels/gem20flashloanapproval-uoamepmbr22k\")"
   ]
  },
  {
   "cell_type": "code",
   "execution_count": null,
   "id": "91f1fe72-c6ff-451a-a505-9838c371d77e",
   "metadata": {},
   "outputs": [],
   "source": []
  },
  {
   "cell_type": "markdown",
   "id": "efed2058-7011-4283-a988-699d7a71725a",
   "metadata": {},
   "source": []
  },
  {
   "cell_type": "markdown",
   "id": "3faa5fd8-7386-471c-ab36-8713b76a0293",
   "metadata": {},
   "source": [
    "# Training for a Company Support Bot"
   ]
  },
  {
   "cell_type": "markdown",
   "id": "c4d08b31-d7d9-4bfd-833b-67f6d95d7b3d",
   "metadata": {},
   "source": [
    "## Preparing data"
   ]
  },
  {
   "cell_type": "code",
   "execution_count": 16,
   "id": "903678a0-d427-40ef-9d59-c4a8d4ab6f81",
   "metadata": {},
   "outputs": [],
   "source": [
    "with open(\"data/cmp_faq_100.json\",\"r\") as faq_json:\n",
    "    faq_data = json.load(faq_json)"
   ]
  },
  {
   "cell_type": "code",
   "execution_count": 18,
   "id": "bcaa7183-819d-46b9-be73-0bd143c0eeab",
   "metadata": {},
   "outputs": [
    {
     "data": {
      "text/plain": [
       "[{'prompt': 'What services does TechNova Solutions offer?',\n",
       "  'output': 'TechNova Solutions offers a comprehensive range of services including Web & Mobile App Development, Cloud Infrastructure & DevOps, Cybersecurity, Data Analytics & AI, IoT & Embedded Systems, and IT Consulting & Training.'},\n",
       " {'prompt': 'Can TechNova Solutions develop a custom mobile app for my business?',\n",
       "  'output': 'Yes, TechNova Solutions specializes in custom Web & Mobile App Development, creating tailored solutions for various business needs.'},\n",
       " {'prompt': 'Do you provide cloud migration services?',\n",
       "  'output': 'Absolutely. Our Cloud Infrastructure & DevOps team assists with seamless cloud migration, optimization, and management.'},\n",
       " {'prompt': 'What kind of cybersecurity services do you offer?',\n",
       "  'output': 'Our Cybersecurity services include vulnerability assessments, penetration testing, security audits, incident response planning, and implementing robust security solutions to protect your digital assets.'},\n",
       " {'prompt': 'How can TechNova Solutions help with data analysis?',\n",
       "  'output': 'Our Data Analytics & AI services involve collecting, processing, and analyzing your data to extract valuable insights, identify trends, and support data-driven decision-making.'},\n",
       " {'prompt': 'Does TechNova Solutions work with IoT devices?',\n",
       "  'output': 'Yes, we have expertise in IoT & Embedded Systems, developing solutions that connect and manage smart devices for various industries.'},\n",
       " {'prompt': 'Are there training programs available through TechNova Solutions?',\n",
       "  'output': 'Yes, we offer IT Consulting & Training services, providing expert guidance and tailored training programs for your team.'},\n",
       " {'prompt': 'What industries does TechNova Solutions typically serve?',\n",
       "  'output': 'TechNova Solutions serves a wide range of industries, leveraging our diverse service portfolio to meet unique business challenges across sectors.'},\n",
       " {'prompt': 'What is the typical development process for a web application?',\n",
       "  'output': 'Our web application development process typically involves discovery, planning, design, development, testing, deployment, and ongoing support.'},\n",
       " {'prompt': 'Do you offer ongoing support after project completion?',\n",
       "  'output': 'Yes, TechNova Solutions provides ongoing support and maintenance services to ensure your solutions run smoothly and efficiently.'}]"
      ]
     },
     "execution_count": 18,
     "metadata": {},
     "output_type": "execute_result"
    }
   ],
   "source": [
    "faq_data[:10]"
   ]
  },
  {
   "cell_type": "markdown",
   "id": "d45d8c8e-4db1-47e8-9274-79f643312673",
   "metadata": {
    "jp-MarkdownHeadingCollapsed": true
   },
   "source": [
    "## Training "
   ]
  },
  {
   "cell_type": "code",
   "execution_count": 35,
   "id": "22a104e9-5104-4a20-aac6-f82f54012327",
   "metadata": {},
   "outputs": [],
   "source": [
    "training_dataset_faq = types.TuningDataset(\n",
    "    examples=[\n",
    "        types.TuningExample(\n",
    "            text_input=data[\"prompt\"],\n",
    "            output=data[\"output\"],\n",
    "        )\n",
    "        for data in faq_data\n",
    "    ]\n",
    ")"
   ]
  },
  {
   "cell_type": "code",
   "execution_count": 36,
   "id": "6aa87b5d-ebb9-45be-b8ab-1909fe28b842",
   "metadata": {},
   "outputs": [
    {
     "name": "stderr",
     "output_type": "stream",
     "text": [
      "/tmp/ipykernel_8315/2496635928.py:1: ExperimentalWarning: The SDK's tuning implementation is experimental, and may change in future versions.\n",
      "  tuning_job_faq = client.tunings.tune(\n"
     ]
    }
   ],
   "source": [
    "tuning_job_faq = client.tunings.tune(\n",
    "    base_model='models/gemini-1.5-flash-001-tuning',\n",
    "    training_dataset=training_dataset_faq,\n",
    "    config=types.CreateTuningJobConfig(\n",
    "        epoch_count=5,\n",
    "        batch_size=4,\n",
    "        learning_rate=0.001,\n",
    "        tuned_model_display_name=\"faq_tuned_model\"\n",
    "    )\n",
    ")"
   ]
  },
  {
   "cell_type": "code",
   "execution_count": 12,
   "id": "07b087b5-9ffe-4dfa-95f8-814916bc0896",
   "metadata": {},
   "outputs": [
    {
     "name": "stdout",
     "output_type": "stream",
     "text": [
      "1 -> tunedModels/gem20flashloanapproval-uoamepmbr22k state: JobState.JOB_STATE_SUCCEEDED\n",
      "\n",
      "2 -> tunedModels/gem20flashloanapproval-2pl9k5nx5l8g state: JobState.JOB_STATE_SUCCEEDED\n",
      "\n",
      "3 -> tunedModels/gem20flashloanapproval-yz2tjlu62jhb state: JobState.JOB_STATE_SUCCEEDED\n",
      "\n",
      "4 -> tunedModels/gem20flashloanapproval-n7ckykl4vhrk state: JobState.JOB_STATE_SUCCEEDED\n",
      "\n",
      "5 -> tunedModels/gem20flashloanapproval-9j70uinjcu3g state: JobState.JOB_STATE_SUCCEEDED\n",
      "\n",
      "6 -> tunedModels/gem20flashloanapproval-g6wazf6qmmbz state: JobState.JOB_STATE_SUCCEEDED\n",
      "\n",
      "7 -> tunedModels/faqtunedmodel-2mi1ma079yipeb6tb1979ho6sz state: JobState.JOB_STATE_SUCCEEDED\n",
      "\n"
     ]
    }
   ],
   "source": [
    "for i, tuned_model in enumerate(client.tunings.list()):\n",
    "    print(f\"{i+1} -> {tuned_model.name} state: {tuned_model.state}\\n\")"
   ]
  },
  {
   "cell_type": "markdown",
   "id": "636ca1f9-cc18-4614-b39f-0e6618e7f11c",
   "metadata": {},
   "source": [
    "## Testing Responses"
   ]
  },
  {
   "cell_type": "code",
   "execution_count": 7,
   "id": "bb476597-4760-4738-8aeb-20a6f0cf6b83",
   "metadata": {},
   "outputs": [],
   "source": [
    "def gen_reponse(prompt):\n",
    "    client = genai.Client(api_key=os.getenv(\"gem_api\"))\n",
    "    response = client.models.generate_content(\n",
    "        model=\"tunedModels/faqtunedmodel-2mi1ma079yipeb6tb1979ho6sz\", contents=prompt\n",
    "    )\n",
    "    \n",
    "    print(response.text)"
   ]
  },
  {
   "cell_type": "code",
   "execution_count": 8,
   "id": "8d899495-6ad5-4c83-84f7-299caf5a941f",
   "metadata": {
    "scrolled": true
   },
   "outputs": [
    {
     "name": "stdout",
     "output_type": "stream",
     "text": [
      "We don't provide pricing for specific services like website development without first understanding project requirements and scope. Contact us for a free consultation where we can discuss your project and provide an estimated range.\n"
     ]
    }
   ],
   "source": [
    "gen_reponse(\"What is the usual cost for building website in Technova?\")"
   ]
  },
  {
   "cell_type": "code",
   "execution_count": 8,
   "id": "49b2c059-de21-484d-a7b0-1f8c1535ab6f",
   "metadata": {},
   "outputs": [
    {
     "name": "stdout",
     "output_type": "stream",
     "text": [
      "Technova Solutions & Services provides a comprehensive range of solutions, including Web & Mobile App Development, Cloud Infrastructure & DevOps, Data Analytics & AI, Cybersecurity, IoT & Embedded Systems, and IT Consulting & Training.\n"
     ]
    }
   ],
   "source": [
    "gen_reponse(\"What solutions does Technova Provide?\")"
   ]
  },
  {
   "cell_type": "code",
   "execution_count": 10,
   "id": "59043fe4-63a5-40d0-87a3-c3efab34bfcd",
   "metadata": {},
   "outputs": [
    {
     "name": "stdout",
     "output_type": "stream",
     "text": [
      "Technova uses a comprehensive tech stack, adapting to project needs, encompassing front-end frameworks, back-end languages, cloud platforms, DevOps tools, and data analytics technologies.\n"
     ]
    }
   ],
   "source": [
    "gen_reponse(\"What tech stack does Technova Uses?\")"
   ]
  },
  {
   "cell_type": "code",
   "execution_count": null,
   "id": "edf9dfff-d1b4-4ff5-a1a1-51cf58b1bb4c",
   "metadata": {},
   "outputs": [],
   "source": []
  }
 ],
 "metadata": {
  "kernelspec": {
   "display_name": "Python 3 (ipykernel)",
   "language": "python",
   "name": "python3"
  },
  "language_info": {
   "codemirror_mode": {
    "name": "ipython",
    "version": 3
   },
   "file_extension": ".py",
   "mimetype": "text/x-python",
   "name": "python",
   "nbconvert_exporter": "python",
   "pygments_lexer": "ipython3",
   "version": "3.13.3"
  }
 },
 "nbformat": 4,
 "nbformat_minor": 5
}
